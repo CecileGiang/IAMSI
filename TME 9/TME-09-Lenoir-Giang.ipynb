{
 "cells": [
  {
   "cell_type": "markdown",
   "metadata": {},
   "source": [
    "IAMSI -- 2020-2021\n",
    "--------\n",
    "*&copy; Equipe pédagogique : Gauvain Bourgne, Jean-Gabriel Ganascia, Marie-Jeanne Lesot, Christophe Marsala.*\n",
    "\n",
    "\n",
    "# TME 09 : Règles d'association"
   ]
  },
  {
   "cell_type": "markdown",
   "metadata": {},
   "source": [
    "<font color=\"RED\" size=\"+1\">**[Q]**</font> **Indiquer dans la boîte ci-dessous vos noms et prénoms**"
   ]
  },
  {
   "cell_type": "markdown",
   "metadata": {},
   "source": [
    "Lenoir Romain 3670199, Cécile Giang 3530406"
   ]
  },
  {
   "cell_type": "markdown",
   "metadata": {},
   "source": [
    "<font color=\"RED\" size=\"+1\">**[Q]**</font> **Renommer ce notebook**\n",
    "\n",
    "Tout en haut de cette page, cliquer sur <tt>TME-09</tt> et rajouter à la suite de <tt>TME-09</tt> les noms des membres du binômes séparés par un tiret.\n",
    "\n",
    "Par exemple, pour le binôme Luke Skywalker et Han Solo, le nom de fichier devient : <pre>TME-09-Skywalker-Solo</pre>\n",
    "\n",
    "Penser à sauvegarder fréquemment le fichier en cours de travail :\n",
    "- soit en cliquant sur l'icône \"disquette\"\n",
    "- soit par la combinaison de touches [Ctrl]-S"
   ]
  },
  {
   "cell_type": "markdown",
   "metadata": {},
   "source": [
    "## Présentation"
   ]
  },
  {
   "cell_type": "markdown",
   "metadata": {},
   "source": [
    "### But de ce TME\n",
    "\n",
    "Ce TME a pour but de réaliser une implémentation *intuitive* de l'algorithme **apriori** afin de la comparer à une version efficace de cet algorithme, puis à une implémentation de l'algorithme **fp-growth**.\n"
   ]
  },
  {
   "cell_type": "markdown",
   "metadata": {},
   "source": [
    "#### Contenu de l'archive téléchargée\n",
    "\n",
    "Une fois détarée, l'archive **tme-09.tgz** crée le répertoire <code>tme09</code> contenant :\n",
    "- ce notebook que vous lisez en ce moment et que vous allez compléter.\n",
    "- un répertoire <code>dataset</code> contenant des bases d'exemples pour tester les algorithmes\n",
    "- deux fichiers exécutables (Linux): <code>apriori32</code> et <code>fpgrowth32</code> (ces 2 programmes ont été développés par Christian Borgelt, plus d'infos sur sa page web  http://www.borgelt.net/software.html). Ces programmes seront utilisés en fin de séance. Si vous n'êtes pas sous Linux, vous pouvez trouver une version pour votre OS ici:\n",
    "    - <code>apriori</code> : https://borgelt.net/apriori.html\n",
    "    - <code>fpgrowth</code> : https://borgelt.net/fpgrowth.html\n",
    "\n"
   ]
  },
  {
   "cell_type": "markdown",
   "metadata": {},
   "source": [
    "#### Compte-rendu de la séance\n",
    "\n",
    "Le compte-rendu de ce TME se compose de ce notebook complété par les réponses aux questions posées.\n",
    "\n",
    "Ce compte-rendu est à poster : \n",
    "- à l'issue de la séance, un premier envoi doit être **obligatoirement** fait avec ce que vous avez réalisé\n",
    "- si nécessaire, un complément peut être envoyé **au plus tard avant le début de la prochaine séance**.\n"
   ]
  },
  {
   "cell_type": "markdown",
   "metadata": {},
   "source": [
    "<font color=\"RED\">IMPORTANT: soumission de votre fichier final</font>\n",
    "\n",
    "**Nom à donner au fichier à poster** : *Nom1_Nom2.ipynb* \n",
    "- *Nom1* et *Nom2* : noms des membres du binôme\n",
    "- ne pas compresser ou faire une archive: envoyer le notebook tel quel, éventuellement, si vous avez d'autres fichiers à envoyer, les  joindre au message."
   ]
  },
  {
   "cell_type": "code",
   "execution_count": 13,
   "metadata": {},
   "outputs": [
    {
     "data": {
      "text/plain": [
       "['D:\\\\all\\\\travail\\\\m1_info\\\\IAMSI\\\\tme-09',\n",
       " 'D:\\\\Program Files (x86)\\\\Anaconda\\\\python38.zip',\n",
       " 'D:\\\\Program Files (x86)\\\\Anaconda\\\\DLLs',\n",
       " 'D:\\\\Program Files (x86)\\\\Anaconda\\\\lib',\n",
       " 'D:\\\\Program Files (x86)\\\\Anaconda',\n",
       " '',\n",
       " 'C:\\\\Users\\\\rl24\\\\AppData\\\\Roaming\\\\Python\\\\Python38\\\\site-packages',\n",
       " 'D:\\\\Program Files (x86)\\\\Anaconda\\\\lib\\\\site-packages',\n",
       " 'D:\\\\Program Files (x86)\\\\Anaconda\\\\lib\\\\site-packages\\\\win32',\n",
       " 'D:\\\\Program Files (x86)\\\\Anaconda\\\\lib\\\\site-packages\\\\win32\\\\lib',\n",
       " 'D:\\\\Program Files (x86)\\\\Anaconda\\\\lib\\\\site-packages\\\\Pythonwin',\n",
       " 'D:\\\\Program Files (x86)\\\\Anaconda\\\\lib\\\\site-packages\\\\IPython\\\\extensions',\n",
       " 'C:\\\\Users\\\\rl24\\\\.ipython']"
      ]
     },
     "execution_count": 13,
     "metadata": {},
     "output_type": "execute_result"
    }
   ],
   "source": [
    "# Vérification de la version de Python utilisée:\n",
    "import sys\n",
    "sys.path # le path doit contenir python3.5 ou une version supérieure"
   ]
  },
  {
   "cell_type": "markdown",
   "metadata": {},
   "source": [
    "## Traitement d'une base d'apprentissage\n",
    "\n",
    "\n",
    "### Chargement de la base\n",
    "\n",
    "On commence par travailler sur la base exemple du fichier <code>exemple-1.txt</code> (fourni dans le répertoire datasets). \n",
    "\n",
    "Ce fichier contient une transaction par ligne. Chaque transaction est composée d'un groupe d'items séparés par un espace.\n",
    "\n",
    "On peut charger en Python ce fichier par la commande suivante (le répertoire datasets doit se trouver dans le répertoire courant) :"
   ]
  },
  {
   "cell_type": "code",
   "execution_count": 14,
   "metadata": {
    "scrolled": true
   },
   "outputs": [
    {
     "name": "stdout",
     "output_type": "stream",
     "text": [
      "ligne 1 : ['a', 'b', 'c']\n",
      "ligne 2 : ['a', 'd', 'e']\n",
      "ligne 3 : ['b', 'c', 'd']\n",
      "ligne 4 : ['a', 'b', 'c', 'd']\n",
      "ligne 5 : ['b', 'c']\n",
      "ligne 6 : ['a', 'b', 'd']\n",
      "ligne 7 : ['d', 'e']\n",
      "ligne 8 : ['a', 'b', 'c', 'd']\n",
      "ligne 9 : ['c', 'd', 'e']\n",
      "ligne 10 : ['a', 'b', 'c']\n"
     ]
    }
   ],
   "source": [
    "import csv\n",
    "with open('datasets/exemple-1.txt', 'r') as fichier:\n",
    "    lecteur = csv.reader(fichier, delimiter=' ')\n",
    "    i = 0\n",
    "    for ligne in lecteur:\n",
    "        i += 1\n",
    "        print('ligne',i,':',ligne)"
   ]
  },
  {
   "cell_type": "markdown",
   "metadata": {},
   "source": [
    "<font color=\"RED\" size=\"+1\">**[Q]**</font>  Ecrire la fonction <code>chargeBase</code> qui prend en argument un nom de fichier, respectant le format énoncé plus haut, le lit et rend un dictionnaire dont les clés sont les numéros de ligne (une transaction) et les valeurs associées les itemsets correspondants représentés sous forme d'ensembles Python (des <code>set()</code> donc).\n",
    "\n",
    "Ici, il est plus intéressant de représenter un itemset comme un ensemble Python plutôt que comme une liste. Il est ainsi plus facile de réaliser des comparaisons d'ensembles ou des ajouts d'éléments.\n",
    "\n",
    "Dans le reste de ce document, on appelle **BASE** un dictionnaire de ce type."
   ]
  },
  {
   "cell_type": "code",
   "execution_count": 66,
   "metadata": {},
   "outputs": [],
   "source": [
    "def chargeBase(nomFichier, delimiteur=' '):\n",
    "    with open(nomFichier, 'r') as fichier:\n",
    "        lecteur = csv.reader(fichier, delimiter=delimiteur)\n",
    "        base = dict()\n",
    "        i = 0\n",
    "        for ligne in lecteur:\n",
    "            i += 1\n",
    "            s= set()\n",
    "            for j in ligne:\n",
    "                s.add(j)\n",
    "            base[i]=s\n",
    "    return base"
   ]
  },
  {
   "cell_type": "code",
   "execution_count": 16,
   "metadata": {},
   "outputs": [
    {
     "name": "stdout",
     "output_type": "stream",
     "text": [
      "Résultat du chargement de 'exemple-1.txt', on obtient : \n"
     ]
    },
    {
     "data": {
      "text/plain": [
       "{1: {'a', 'b', 'c'},\n",
       " 2: {'a', 'd', 'e'},\n",
       " 3: {'b', 'c', 'd'},\n",
       " 4: {'a', 'b', 'c', 'd'},\n",
       " 5: {'b', 'c'},\n",
       " 6: {'a', 'b', 'd'},\n",
       " 7: {'d', 'e'},\n",
       " 8: {'a', 'b', 'c', 'd'},\n",
       " 9: {'c', 'd', 'e'},\n",
       " 10: {'a', 'b', 'c'}}"
      ]
     },
     "execution_count": 16,
     "metadata": {},
     "output_type": "execute_result"
    }
   ],
   "source": [
    "print(\"Résultat du chargement de 'exemple-1.txt', on obtient : \")\n",
    "Base1 = chargeBase('datasets/exemple-1.txt')\n",
    "Base1"
   ]
  },
  {
   "cell_type": "markdown",
   "metadata": {},
   "source": [
    "On utilise la variable **Base1** dans la suite pour faire référence à cette base."
   ]
  },
  {
   "cell_type": "markdown",
   "metadata": {},
   "source": [
    "## Itemsets et support"
   ]
  },
  {
   "cell_type": "markdown",
   "metadata": {},
   "source": [
    "<font color=\"RED\" size=\"+1\">**[Q]**</font>  Ecrire la fonction <code>noms_items</code> qui prend en argument une BASE et rend l'ensemble des items qui composent cette base."
   ]
  },
  {
   "cell_type": "code",
   "execution_count": 17,
   "metadata": {},
   "outputs": [],
   "source": [
    "def noms_items(base):\n",
    "    s= set()\n",
    "    for i in base.values():\n",
    "        s =s.union(i)\n",
    "    return s"
   ]
  },
  {
   "cell_type": "code",
   "execution_count": 18,
   "metadata": {},
   "outputs": [
    {
     "name": "stdout",
     "output_type": "stream",
     "text": [
      "Pour la BASE précédente :\n"
     ]
    },
    {
     "data": {
      "text/plain": [
       "{'a', 'b', 'c', 'd', 'e'}"
      ]
     },
     "execution_count": 18,
     "metadata": {},
     "output_type": "execute_result"
    }
   ],
   "source": [
    "print(\"Pour la BASE précédente :\")\n",
    "noms_items(Base1)"
   ]
  },
  {
   "cell_type": "markdown",
   "metadata": {},
   "source": [
    "<font color=\"RED\" size=\"+1\">**[Q]**</font>  Ecrire la fonction <code>singletons</code> qui prend en argument une BASE et rend la liste des itemsets de taille 1 obtenus à partir de cette base.\n",
    "\n",
    "*Remarque*: attention, ici on utilise une **liste** pour stocker les itemsets (un itemset est un ensemble Python) car il n'est pas possible en Python de créer des ensembles d'ensembles.\n"
   ]
  },
  {
   "cell_type": "code",
   "execution_count": 19,
   "metadata": {},
   "outputs": [],
   "source": [
    "def singletons(base):\n",
    "    s = noms_items(base)\n",
    "    res = []\n",
    "    for i in s:\n",
    "        j = set([i])\n",
    "        res.append(j)\n",
    "    return res"
   ]
  },
  {
   "cell_type": "code",
   "execution_count": 20,
   "metadata": {},
   "outputs": [
    {
     "name": "stdout",
     "output_type": "stream",
     "text": [
      "Exemple: singletons(Base1) rend :\n"
     ]
    },
    {
     "data": {
      "text/plain": [
       "[{'b'}, {'c'}, {'a'}, {'e'}, {'d'}]"
      ]
     },
     "execution_count": 20,
     "metadata": {},
     "output_type": "execute_result"
    }
   ],
   "source": [
    "print(\"Exemple: singletons(Base1) rend :\")\n",
    "singletons(Base1)"
   ]
  },
  {
   "cell_type": "markdown",
   "metadata": {},
   "source": [
    "<font color=\"RED\" size=\"+1\">**[Q]**</font>  Ecrire la fonction <code>comptage</code> qui, pour une BASE et un itemset donnés, rend le nombre de transactions de BASE qui contiennent cet itemset."
   ]
  },
  {
   "cell_type": "code",
   "execution_count": 21,
   "metadata": {},
   "outputs": [],
   "source": [
    "def comptage(base, item):\n",
    "    res = len(base)\n",
    "    for i in base.values():\n",
    "        b = 0\n",
    "        for j in item:\n",
    "            if j not in i:\n",
    "                res-=1\n",
    "                b = 0\n",
    "                break\n",
    "        if b==1:\n",
    "            continue\n",
    "                \n",
    "            \n",
    "    return res"
   ]
  },
  {
   "cell_type": "code",
   "execution_count": 22,
   "metadata": {},
   "outputs": [
    {
     "name": "stdout",
     "output_type": "stream",
     "text": [
      "Comptage de l'itemset {'a','b','c'} dans la base précédente : \n",
      "comptage(Base1,{'a','b','c'}) rend la valeur 4\n"
     ]
    }
   ],
   "source": [
    "print(\"Comptage de l'itemset {'a','b','c'} dans la base précédente : \")\n",
    "print(\"comptage(Base1,{'a','b','c'}) rend la valeur \"+str(comptage(Base1,{'a','b','c'})))"
   ]
  },
  {
   "cell_type": "markdown",
   "metadata": {},
   "source": [
    "<font color=\"RED\" size=\"+1\">**[Q]**</font>  Ecrire la fonction <code>support</code> qui, pour une BASE et un itemset donnés, rend le support de cet itemset dans la BASE."
   ]
  },
  {
   "cell_type": "code",
   "execution_count": 23,
   "metadata": {},
   "outputs": [],
   "source": [
    "def support(base, item):\n",
    "    return comptage(base, item)/len(base)"
   ]
  },
  {
   "cell_type": "code",
   "execution_count": 24,
   "metadata": {},
   "outputs": [
    {
     "name": "stdout",
     "output_type": "stream",
     "text": [
      "Support de l'itemset {'a','b','c'} dans la base précédente : 0.4\n"
     ]
    }
   ],
   "source": [
    "print(\"Support de l'itemset {'a','b','c'} dans la base précédente : \" \\\n",
    "      +str(support(Base1,{'a','b','c'})))"
   ]
  },
  {
   "cell_type": "markdown",
   "metadata": {},
   "source": [
    "## Implémentation de l'algorithme a-priori\n",
    "\n",
    "Dans cette partie, une implémentation de la partie de construction des itemsets fréquents de l'algorithme a-priori est réalisée. On ne s'intéresse pas dans cette question à la génération des règles d'association (mais cela peut être fait en complément).\n",
    "\n",
    "Votre programme doit pouvoir s'appliquer aux bases fournies dans le répertoire *datasets* (éventuellement, sur au moins les 10 premiers exemples de la base mushrooms)."
   ]
  },
  {
   "cell_type": "markdown",
   "metadata": {},
   "source": [
    "<font color=\"RED\" size=\"+1\">**[Q]**</font>  Ecrire la fonction <code>apriori_gen</code> qui prend en argument une liste d'itemsets de même longueur $k$, applique l'algorithme apriori-gen pour rendre la liste des itemsets candidats de longueurs $k+1$.\n"
   ]
  },
  {
   "cell_type": "code",
   "execution_count": 50,
   "metadata": {},
   "outputs": [],
   "source": [
    "def apriori_gen(liste):\n",
    "    res=[]\n",
    "    for i in range(len(liste)):\n",
    "        for j in liste[i:]:\n",
    "            if liste[i]!=j:\n",
    "                u = liste[i].union(j)\n",
    "                if len(u)==len(j)+1 and u not in res:\n",
    "                    res.append(u)\n",
    "    res2=res.copy()\n",
    "    for c in res:\n",
    "        for i in c:\n",
    "            tmp=c.copy()\n",
    "            tmp.remove(i)\n",
    "            if tmp not in liste and c in res2:\n",
    "                res2.pop(res2.index(c))\n",
    "                \n",
    "                \n",
    "    return res2"
   ]
  },
  {
   "cell_type": "code",
   "execution_count": 52,
   "metadata": {
    "scrolled": true
   },
   "outputs": [
    {
     "name": "stdout",
     "output_type": "stream",
     "text": [
      "Exemple: apriori_gen([{'a'}, {'b'}, {'c'}, {'d'}]) rend \n",
      "[{'b', 'a'}, {'a', 'c'}, {'a', 'd'}, {'b', 'c'}, {'b', 'd'}, {'c', 'd'}]\n",
      "\n",
      "Exemple: apriori_gen([{'a','b'},{'a','d'},{'b','d'},{'b','c'},{'c','d'}]) rend \n",
      "[{'b', 'a', 'd'}, {'b', 'c', 'd'}]\n",
      "\n",
      "Exemple: apriori_gen([{'b', 'a', 'd'}, {'b', 'c', 'd'}]) rend \n",
      "[]\n"
     ]
    }
   ],
   "source": [
    "print(\"Exemple: apriori_gen([{'a'}, {'b'}, {'c'}, {'d'}]) rend \")\n",
    "print(apriori_gen([{'a'}, {'b'}, {'c'}, {'d'}]))\n",
    "\n",
    "print(\"\\nExemple: apriori_gen([{'a','b'},{'a','d'},{'b','d'},{'b','c'},{'c','d'}]) rend \")\n",
    "print(apriori_gen([{'a', 'b'}, {'a', 'd'}, {'b', 'd'}, {'b', 'c'}, {'c', 'd'}]))\n",
    "\n",
    "print(\"\\nExemple: apriori_gen([{'b', 'a', 'd'}, {'b', 'c', 'd'}]) rend \")\n",
    "print(apriori_gen([{'b', 'a', 'd'}, {'b', 'c', 'd'}]))"
   ]
  },
  {
   "cell_type": "markdown",
   "metadata": {},
   "source": [
    "<font color=\"RED\" size=\"+1\">**[Q]**</font>  Ecrire la fonction <code>apriori</code> qui prend en argument une BASE et une valeur réelle comprise entre 0 et 1, et qui rend une liste de tuples dont le premier élément et un itemset trouvé et le deuxième élément est la valeur de support correspondante."
   ]
  },
  {
   "cell_type": "code",
   "execution_count": 53,
   "metadata": {},
   "outputs": [],
   "source": [
    "def apriori(base, minsup):\n",
    "    unionF=[]\n",
    "    c = singletons(base)\n",
    "    B=len(base)\n",
    "    while c:\n",
    "        count=[]\n",
    "        support=[]\n",
    "        for ci in c:\n",
    "            count.append(comptage(base, ci))\n",
    "        f=[]\n",
    "        for i in range(len(c)):\n",
    "            if count[i]/B >= minsup:\n",
    "                f.append(c[i])\n",
    "                support.append(count[i]/B)\n",
    "                \n",
    "        c=apriori_gen(f)\n",
    "        for i in range(len(f)):\n",
    "            unionF.append((f[i],support[i]))\n",
    "            \n",
    "    return unionF"
   ]
  },
  {
   "cell_type": "code",
   "execution_count": 54,
   "metadata": {},
   "outputs": [
    {
     "name": "stdout",
     "output_type": "stream",
     "text": [
      "Exemple: apriori(Base1, 0.3]) rend \n",
      "[({'b'}, 0.7), ({'c'}, 0.7), ({'a'}, 0.6), ({'e'}, 0.3), ({'d'}, 0.7), ({'b', 'c'}, 0.6), ({'b', 'a'}, 0.5), ({'b', 'd'}, 0.4), ({'a', 'c'}, 0.4), ({'c', 'd'}, 0.4), ({'a', 'd'}, 0.4), ({'e', 'd'}, 0.3), ({'b', 'c', 'a'}, 0.4), ({'b', 'c', 'd'}, 0.3), ({'b', 'a', 'd'}, 0.3)]\n"
     ]
    }
   ],
   "source": [
    "print(\"Exemple: apriori(Base1, 0.3]) rend \")\n",
    "print(apriori(Base1,0.3))"
   ]
  },
  {
   "cell_type": "code",
   "execution_count": 55,
   "metadata": {},
   "outputs": [
    {
     "name": "stdout",
     "output_type": "stream",
     "text": [
      "Exemple: apriori(Base1, 0.3]) rend \n",
      "[({'b'}, 0.7), ({'c'}, 0.7), ({'a'}, 0.6), ({'e'}, 0.3), ({'d'}, 0.7), ({'b', 'c'}, 0.6), ({'b', 'a'}, 0.5), ({'b', 'd'}, 0.4), ({'a', 'c'}, 0.4), ({'c', 'd'}, 0.4), ({'a', 'd'}, 0.4), ({'e', 'd'}, 0.3), ({'b', 'c', 'a'}, 0.4), ({'b', 'c', 'd'}, 0.3), ({'b', 'a', 'd'}, 0.3)]\n"
     ]
    }
   ],
   "source": [
    "print(\"Exemple: apriori(Base1, 0.3]) rend \")\n",
    "print(apriori(Base1,0.3))"
   ]
  },
  {
   "cell_type": "markdown",
   "metadata": {},
   "source": [
    "## Expérimentations"
   ]
  },
  {
   "cell_type": "markdown",
   "metadata": {},
   "source": [
    "### Vérification avec la base du TD\n",
    "\n",
    "Utiliser la fonction <code>apriori</code> avec la base de transactions du TD afin de vérifier que les itemsets obtenus sont corrects."
   ]
  },
  {
   "cell_type": "code",
   "execution_count": 56,
   "metadata": {},
   "outputs": [],
   "source": [
    "BaseTD={1: {'a', 'b', 'd','e'},\n",
    " 2: {'a','b', 'd', 'e'},\n",
    " 3: {'b', 'c', 'd'},\n",
    " 4: {'a', 'e', 'c', 'd'},\n",
    " 5: {'b', 'c','d','e'},\n",
    " 6: {'e', 'b', 'd'},\n",
    " 7: {'d', 'c'},\n",
    " 8: {'a', 'b', 'c'},\n",
    " 9: {'a', 'd', 'e'},\n",
    " 10: { 'b', 'd'}}"
   ]
  },
  {
   "cell_type": "code",
   "execution_count": 61,
   "metadata": {},
   "outputs": [
    {
     "name": "stdout",
     "output_type": "stream",
     "text": [
      "Exemple: apriori(BaseTD, 0.3) rend \n",
      "[({'b'}, 0.7), ({'c'}, 0.5), ({'a'}, 0.5), ({'e'}, 0.6), ({'d'}, 0.9), ({'b', 'c'}, 0.3), ({'b', 'a'}, 0.3), ({'b', 'e'}, 0.4), ({'b', 'd'}, 0.6), ({'c', 'd'}, 0.4), ({'a', 'e'}, 0.4), ({'a', 'd'}, 0.4), ({'e', 'd'}, 0.6), ({'b', 'e', 'd'}, 0.4), ({'a', 'e', 'd'}, 0.4)]\n"
     ]
    }
   ],
   "source": [
    "print(\"Exemple: apriori(BaseTD, 0.3) rend \")\n",
    "print(apriori(BaseTD,0.3))"
   ]
  },
  {
   "cell_type": "markdown",
   "metadata": {},
   "source": [
    "### Comparaisons avec les implémentations apriori et fpgrowth"
   ]
  },
  {
   "cell_type": "markdown",
   "metadata": {},
   "source": [
    "<font color=\"RED\" size=\"+1\">**[Q]**</font>  Tester votre fonction <code>apriori</code> sur les 3 bases données dans datasets et confronter les résultats obtenus avec ceux fournis par l'exécutable <code>apriori</code>."
   ]
  },
  {
   "cell_type": "code",
   "execution_count": 67,
   "metadata": {},
   "outputs": [
    {
     "name": "stdout",
     "output_type": "stream",
     "text": [
      "Résultat du chargement de 'mushrooms.txt', on obtient : \n",
      "8416  transactions.\n"
     ]
    }
   ],
   "source": [
    "print(\"Résultat du chargement de 'mushrooms.txt', on obtient : \")\n",
    "Base_mushrooms = chargeBase('datasets/mushrooms.txt',delimiteur=',')\n",
    "#Base_mushrooms\n",
    "print(len(Base_mushrooms),' transactions.')"
   ]
  },
  {
   "cell_type": "code",
   "execution_count": 69,
   "metadata": {
    "scrolled": false
   },
   "outputs": [
    {
     "name": "stdout",
     "output_type": "stream",
     "text": [
      "Pour la BASE précédente :\n",
      "Exemple: singletons(Base_mushrooms) rend :\n"
     ]
    },
    {
     "data": {
      "text/plain": [
       "[{'TAPERING'},\n",
       " {'CONVEX'},\n",
       " {'FIBROUS'},\n",
       " {'ORANGE'},\n",
       " {'PATHS'},\n",
       " {'PINK'},\n",
       " {'WHITE'},\n",
       " {'ALMOND'},\n",
       " {'SCALY'},\n",
       " {'YELLOW'},\n",
       " {'SCATTERED'},\n",
       " {'BROAD'},\n",
       " {'ONE'},\n",
       " {'CLUSTERED'},\n",
       " {'GRASSES'},\n",
       " {'NONE'},\n",
       " {'PUNGENT'},\n",
       " {'BROWN'},\n",
       " {'GRAY'},\n",
       " {'FOUL'},\n",
       " {'GROOVES'},\n",
       " {'WOODS'},\n",
       " {'PURPLE'},\n",
       " {'SUNKEN'},\n",
       " {'FREE'},\n",
       " {'ATTACHED'},\n",
       " {'NUMEROUS'},\n",
       " {'BRUISES'},\n",
       " {'CROWDED'},\n",
       " {'TWO'},\n",
       " {'PENDANT'},\n",
       " {'CONICAL'},\n",
       " {'SILKY'},\n",
       " {'FISHY'},\n",
       " {'NARROW'},\n",
       " {'CHOCOLATE'},\n",
       " {'BUFF'},\n",
       " {'PARTIAL'},\n",
       " {'WASTE'},\n",
       " {'ROOTED'},\n",
       " {'GREEN'},\n",
       " {'SMOOTH'},\n",
       " {'KNOBBED'},\n",
       " {'EDIBLE'},\n",
       " {'POISONOUS'},\n",
       " {'LARGE'},\n",
       " {'SEVERAL'},\n",
       " {'ENLARGING'},\n",
       " {'SPICY'},\n",
       " {'MUSTY'},\n",
       " {'EQUAL'},\n",
       " {'SOLITARY'},\n",
       " {'NO'},\n",
       " {'EVANESCENT'},\n",
       " {'ABUNDANT'},\n",
       " {'ANISE'},\n",
       " {'CREOSOTE'},\n",
       " {'BLACK'},\n",
       " {'MEADOWS'},\n",
       " {'BULBOUS'},\n",
       " {'URBAN'},\n",
       " {'CLUB'},\n",
       " {'CLOSE'},\n",
       " {'RED'},\n",
       " {'?'},\n",
       " {'FLAT'},\n",
       " {'CINNAMON'},\n",
       " {'BELL'},\n",
       " {'FLARING'},\n",
       " {'LEAVES'}]"
      ]
     },
     "execution_count": 69,
     "metadata": {},
     "output_type": "execute_result"
    }
   ],
   "source": [
    "print(\"Pour la BASE précédente :\")\n",
    "noms_items(Base_mushrooms)\n",
    "print(\"Exemple: singletons(Base_mushrooms) rend :\")\n",
    "singletons(Base_mushrooms)"
   ]
  },
  {
   "cell_type": "code",
   "execution_count": 21,
   "metadata": {},
   "outputs": [
    {
     "name": "stdout",
     "output_type": "stream",
     "text": [
      "[({'WHITE'}, 0.9771863117870723), ({'PARTIAL'}, 1.0), ({'FREE'}, 0.9743346007604563), ({'ONE'}, 0.9230038022813688), ({'WHITE', 'PARTIAL'}, 0.9771863117870723), ({'WHITE', 'FREE'}, 0.9743346007604563), ({'WHITE', 'ONE'}, 0.9001901140684411), ({'PARTIAL', 'FREE'}, 0.9743346007604563), ({'PARTIAL', 'ONE'}, 0.9230038022813688), ({'FREE', 'ONE'}, 0.9001901140684411), ({'WHITE', 'PARTIAL', 'FREE'}, 0.9743346007604563), ({'WHITE', 'PARTIAL', 'ONE'}, 0.9001901140684411), ({'WHITE', 'FREE', 'ONE'}, 0.9001901140684411), ({'PARTIAL', 'FREE', 'ONE'}, 0.9001901140684411), ({'FREE', 'WHITE', 'PARTIAL', 'ONE'}, 0.9001901140684411)]\n"
     ]
    }
   ],
   "source": [
    "print(apriori(Base_mushrooms,0.9))"
   ]
  },
  {
   "cell_type": "code",
   "execution_count": 79,
   "metadata": {},
   "outputs": [
    {
     "data": {
      "text/plain": [
       "[({'WHITE'}, 0.9771863117870723),\n",
       " ({'PARTIAL'}, 1.0),\n",
       " ({'FREE'}, 0.9743346007604563),\n",
       " ({'ONE'}, 0.9230038022813688),\n",
       " ({'PARTIAL', 'WHITE'}, 0.9771863117870723),\n",
       " ({'FREE', 'WHITE'}, 0.9743346007604563),\n",
       " ({'ONE', 'WHITE'}, 0.9001901140684411),\n",
       " ({'FREE', 'PARTIAL'}, 0.9743346007604563),\n",
       " ({'ONE', 'PARTIAL'}, 0.9230038022813688),\n",
       " ({'FREE', 'ONE'}, 0.9001901140684411),\n",
       " ({'FREE', 'PARTIAL', 'WHITE'}, 0.9743346007604563),\n",
       " ({'ONE', 'PARTIAL', 'WHITE'}, 0.9001901140684411),\n",
       " ({'FREE', 'ONE', 'WHITE'}, 0.9001901140684411),\n",
       " ({'FREE', 'ONE', 'PARTIAL'}, 0.9001901140684411),\n",
       " ({'FREE', 'ONE', 'PARTIAL', 'WHITE'}, 0.9001901140684411)]"
      ]
     },
     "execution_count": 79,
     "metadata": {},
     "output_type": "execute_result"
    }
   ],
   "source": [
    "[({'WHITE'}, 0.9771863117870723), ({'PARTIAL'}, 1.0), ({'FREE'}, 0.9743346007604563), ({'ONE'}, 0.9230038022813688), ({'WHITE', 'PARTIAL'}, 0.9771863117870723), ({'WHITE', 'FREE'}, 0.9743346007604563), ({'WHITE', 'ONE'}, 0.9001901140684411), ({'PARTIAL', 'FREE'}, 0.9743346007604563), ({'PARTIAL', 'ONE'}, 0.9230038022813688), ({'FREE', 'ONE'}, 0.9001901140684411), ({'WHITE', 'PARTIAL', 'FREE'}, 0.9743346007604563), ({'WHITE', 'PARTIAL', 'ONE'}, 0.9001901140684411), ({'WHITE', 'FREE', 'ONE'}, 0.9001901140684411), ({'PARTIAL', 'FREE', 'ONE'}, 0.9001901140684411), ({'FREE', 'WHITE', 'PARTIAL', 'ONE'}, 0.9001901140684411)]"
   ]
  },
  {
   "cell_type": "code",
   "execution_count": 80,
   "metadata": {},
   "outputs": [
    {
     "name": "stdout",
     "output_type": "stream",
     "text": [
      "Résultat du chargement de 'titanic-red.csv', on obtient : \n",
      "741  transactions.\n"
     ]
    }
   ],
   "source": [
    "print(\"Résultat du chargement de 'titanic-red.csv', on obtient : \")\n",
    "Base_titanic = chargeBase('datasets/titanic-red.csv',delimiteur=',')\n",
    "print(len(Base_titanic),' transactions.')"
   ]
  },
  {
   "cell_type": "code",
   "execution_count": 82,
   "metadata": {},
   "outputs": [
    {
     "name": "stdout",
     "output_type": "stream",
     "text": [
      "Pour la BASE Titanic :\n",
      "{'BroomfieldChelmsfordEngland', 'EnglandSaltLakeCityUtah', 'AustriaHungaryGermantownPhiladelphiaPA', 'BrightonSussex', 'Belfast', 'BrooklynNY', 'ZurichSwitzerland', 'NewYorkNYStamfordCT', 'Paris', 'BrightonMA', 'PhiladelphiaPA', 'SkaraSwedenRockfordIL', 'ParisFranceNewYorkNY', 'EnglandOglesbyIL', 'NewYorkNYGreenwichCT', 'LondonEastOrangeNJ', 'SarniaON', 'FondduLacWI', 'ElmiraNYOrangeNJ', 'MerrillWI', 'embarked', 'BristolEnglandClevelandOH', 'BelgiumDetroitMI', 'ToftaSwedenJolietIL', 'DenmarkHillSurreyChicago', 'KingwilliamstownCoCorkIrelandNewYorkNY', 'FrankfortKY', 'TrentonNJ', 'HelsinkiFinlandAshtabulaOhio', 'EnglandNewYorkNY', 'RotterdamNetherlands', 'WaukeganChicagoIL', 'HarrowEngland', 'MamaroneckNY', 'GreenBayWI', 'PlymouthEngland', 'DevonEnglandWichitaKS', 'LimaPeru', 'BathEnglandMassachusetts', 'DowagiacMI', 'RochesterNY', 'MexicoCityMexico', '1st', 'TreherbertCardiffWales', 'FinlandMinneapolisMN', 'Liverpool', 'CornwallAkronOH', 'BerneSwitzerlandCentralCityIA', 'EffingtonRutSD', 'LondonBrooklynNY', 'NewYorkNYBriarcliffManorNY', 'LondonWinnipegMB', 'GreenportNY', 'GuernseyElizabethNJ', 'WorcesterMA', 'CapeTownSouthAfricaSeattleWA', 'HamiltonON', 'EnglandDetroitMI', 'HolleyNY', 'PerkinsCountySD', 'SeattleWAToledoOH', 'WindsorEnglandNewYorkNY', 'OmahaNE', 'CornwallCamdenNJ', 'WoodfordCountyKY', 'LexingtonMA', 'IsleofWightEngland', 'CoClareIrelandWashingtonDC', 'SwedenWorcesterMA', 'WestonSuperMareMooseJawSK', 'AustriaNiagaraFallsNY', 'CoSligoIrelandNewYorkNY', 'AughnacliffCoLongfordIrelandNewYorkNY', 'Glasgow', 'TaalintehdasFinlandHobokenNJ', 'StDenysSouthamptonHants', 'IndiaRapidCitySD', 'MedeltorpSwedenChicagoIL', 'WiltshireEnglandNiagaraFallsNY', 'LondonChicagoIL', 'BallydehobCoCorkIrelandNewYorkNY', 'BangkokThailandRosevilleIL', 'UnionHillNJ', 'WorcesterEngland', 'dead', 'Russia', 'Queenstown', 'DuluthMN', 'VancouverBC', 'BournmouthEngland', 'LondonBirmingham', 'Spain', 'JanjgirIndiaPennsylvania', 'MontrealPQ', 'CornwallHancockMI', 'IrelandNewYorkNY', 'StJamesLongIslandNY', 'AuburnNY', 'NorwayLosAngelesCA', 'LuccaItalyCalifornia', 'EastBridgewaterMA', 'FolkstoneKentNewYorkNY', 'KingwilliamstownCoCorkIrelandGlensFallsNY', 'StIvesCornwallHoughtonMI', 'GoteborgSwedenHuntleyIL', 'BenningtonVT', 'StIvesCornwallHancockMI', 'CoCorkIrelandCharlestownMA', 'DenverCO', 'SwedenAkeleyMN', 'NewYorkNY', 'LondonNewYorkNY', 'SurbitonHillSurrey', 'SyriaFredericksburgVA', 'AustriaHungary', 'VadsbroSwedenMinisteeMI', 'ParisFrance', 'IndiaPittsburghPA', 'HaddenfieldNJ', 'ColumbusOH', 'IndianapolisIN', 'female', 'LondonSkantealesNY', 'SydneyAustralia', 'ElizabethNJ', 'MadridSpain', 'BelmontMA', 'BelgiumMontrealPQ', 'LyndhurstEngland', 'MiddleburgHeightsOH', 'UpperBurmaIndiaPittsburghPA', 'StAndrewsGuernsey', 'KarbergSwedenJeromeJunctionAZ', 'Ireland', 'MoscowBronxNY', 'PortlandOR', 'PlymouthDorsetHoughtonMI', 'LondonMiddlesex', 'Cornwall', 'GunturIndiaBentonHarbourMI', 'YoungstownOH', 'StIvesCornwallCalumetMI', 'SeattleWA', 'AmeniaND', 'TuxedoParkNY', 'Argentina', 'StockholmSwedenNewYork', 'SyriaYoungstownOH', 'HuntingtonWV', 'BrocktonMA', 'DenmarkNewYorkNY', 'BulgariaCoonRapidsIA', 'NewYorkNYWashingtonDC', 'YoevilEnglandCottageGroveOR', 'IlfracombeDevon', 'CoAthloneIrelandNewYorkNY', 'IrelandChicagoIL', 'SomersetBernardsvilleNJ', 'BrunswickME', 'CopenhagenDenmark', 'BuffaloNY', 'BirkdaleEnglandClevelandOhio', 'SyriaKentON', 'DeephavenMNCedarRapidsIA', 'StoughtonMA', 'GenevaSwitzerlandRadnorPA', 'WashingtonDC', 'BronxNY', 'MontrealPQChestervilleON', '3rd', 'AlbanyNY', 'pclass', 'BarcelonaSpainHavanaCuba', 'SwedenChicagoIL', 'EnglandPhiladelphiaPA', 'WestHavenCT', 'SittingbourneEnglandSanDiegoCA', 'BridgwaterSomersetEngland', 'RuotsinphyhtaaFinlandNewYorkNY', 'IsleworthEngland', 'StLeonardsonSeaEnglandOhio', 'BristolAvonJacksonvilleFL', 'VictoriaBC', 'LiverpoolMontrealPQ', 'RussiaNewYorkNY', 'WinnipegMB', 'EnglandHartfordCT', 'ParisHaiti', 'AberdeenPortlandOR', 'PenzanceCornwallAkronOH', 'WinnipegMN', 'CornwallClearCreekCO', 'BrynMawrPA', 'FinlandSudburyON', 'Guernsey', 'TorontoON', 'NewForestEngland', 'BrennesNorwayNewYork', 'HartfordCT', 'EastOrangeNJ', 'CornwallSpokaneWA', 'NorwichNewYorkNY', 'PetworthSussex', 'HarrisburgPA', 'LondonEnglandMariettaOhioandMilwaukeeWI', 'GoteborgSwedenRockfordIL', 'WestHobokenNJ', 'BuenosAiresArgentinaNewJerseyNJ', \"StAnne'sonSeaLancashire\", 'CoSligoIrelandHartfordCT', 'CornwallHoughtonMI', 'LondonVancouverBC', 'MyrenSwedenNewYorkNY', 'BrooklineMA', 'BulgariaChicagoIL', 'DagsasSwedenFowerMN', 'GunnislakeEnglandButteMT', 'HarrowontheHillMiddlesex', 'Pennsylvania', 'Southampton', 'CologneGermany', 'GlasgowBangorME', 'NorthEvingtonEngland', 'IrelandBrooklynNY', 'ChicagoIL', 'HalesworthEngland', 'IllinoisUSA', 'CambridgeMA', 'SyriaNewYorkNY', 'GuernseyEnglandEdgewoodRI', 'WarwickEngland', 'OskarshamnSwedenMinneapolisMN', 'NewarkNJ', 'BrynMawrPAUSA', 'CornwallEnglandHoughtonMI', 'FinlandWashingtonDC', 'WestcliffonSeaEssex', 'NorrlotSwedenChicagoIL', 'SwindonEngland', 'survived', 'LondonEnglandNorfolkVA', 'CatfordKentDetroitMI', 'AntwerpBelgiumStantonOH', 'BristolEnglandNewBritainCT', 'Greece', 'CoLongfordIrelandNewYorkNY', 'LondonStatenIslandNY', 'CooperstownNY', 'JacksonvilleFL', 'TokyoJapan', 'LakewoodNJ', 'sex', 'NiceFrance', 'BournemouthEnglandNewarkNJ', 'ClevedonEngland', '2nd', 'LondonFortByronNY', 'BaselSwitzerland', 'Cherbourg', 'AltdorfSwitzerland', 'KontiolahtiFinlandDetroitMI', 'ElkinsParkPA', 'SwedenJolietIL', 'ItalyPhiladelphiaPA', 'KilmacowenCoSligoIrelandNewYorkNY', 'TranvikFinlandNewYork', 'AscotBerkshireRochesterNY', 'BarreCoWashingtonVT', 'LondonEngland', 'OsloNorwayBayonneNJ', 'StAustallCornwall', 'EnglandBrooklynNY', 'ProvoUT', 'EnglandSacramentoCA', 'SaultStMarieON', 'MilwaukeeWI', 'HartfordHuntingdonshire', 'SouthseaHants', 'BridgeruleDevon', 'BelfastNI', 'DorchesterMA', 'GallipolisOhioParisNewYork', 'SpringfieldMA', 'CoCorkIrelandRoxburyMA', 'ProvidenceRI', 'MinneapolisMN', 'StockholmSwedenWashingtonDC', 'KrakorydSwedenBloomingtonIL', 'AustraliaFingalND', 'BromsgroveEnglandMontrealPQ', 'alive', 'GreensburgPA', 'MilfordNH', 'StroodKentEnglandDetroitMI', 'PlymouthDevonDetroitMI', 'HudsonNY', 'SwedenWinnipegMN', 'Croatia', 'PondersendEnglandNewDurhamNJ', 'NewBritainCT', 'OttawaON', 'IlfordEssexWinnipegMB', 'LowerClaptonMiddlesexorErdingtonBirmingham', 'DevonportEngland', 'HalifaxNS', 'RuotsinphytaaFinlandNewYorkNY', 'EnglandSanFranciscoCA', 'SanFranciscoCA', 'Austria', 'BergenNorway', 'HornseyEngland', 'OsloNorwayCameronWI', 'HaverfordPACooperstownNY', 'StantonIA', 'MtAiryPhiladelphiaPA', 'LittleOnnHallStaffs', 'London', 'LakeArthurChavezCountyNM', 'EastProvidenceRI', 'NewYorkNYIthacaNY', 'HaverfordPA', 'Syria', 'IrelandPhiladelphiaPA', 'CalgaryAB', 'WimbledonParkLondonHaylingIslandHants', 'GreenwichCT', 'MontevideoUruguay', 'SyriaOttawaON', 'RotherfieldSussexEnglandEssexCoMA', 'GlenRidgeNJ', 'SaloFinlandAstoriaOR', 'GuernseyWilmingtonDE', 'KingstonSurrey', 'EnglandAlbionNY', 'LondonMontrealPQ', 'ChelseaLondon', 'StLouisMO', 'RoachdaleIN', 'WestKensingtonLondon', 'AsarumSwedenBrooklynNY', 'BournemouthEngland', 'SpainHavanaCuba', 'DeerLodgeMT', 'ParisNewYorkNY', 'StreathamSurrey', 'BishopstokeHantsFayetteValleyID', 'GermantownPhiladelphiaPA', 'BaysideQueensNY', 'LosAngelesCA', 'England', 'CoLimerickIrelandSherbrookePQ', 'Portugal', 'WalthamstowEngland', 'HongKongNewYorkNY', 'male', 'EnglandBenningtonVT', 'ManchesterEngland', 'WestHampsteadLondonNeepawaMB', 'ParisMontrealPQ', 'HessleYorks', 'LiverpoolEnglandBedfordOH', 'TampicoMT', 'ScituateMA', 'SouthamptonNewYorkNY', 'ForesvikNorwayPortlandND', 'DorkingSurreyEngland', 'SwedenArlingtonNJ', 'LondonParis', 'home.dest', 'WestBromwichEnglandPontiacMI', 'PomeroyWA', 'KrakuddenSwedenMouneIL', 'DetroitMI', 'StockholmSweden', 'BostonMA', 'GuernseyMontclairNJand/orToledoOhio', 'WestonSuperMareSomerset', 'SouthingtonNoankCT'}\n",
      "Exemple: singletons(Base_titanic) rend :\n"
     ]
    },
    {
     "data": {
      "text/plain": [
       "[{'BroomfieldChelmsfordEngland'},\n",
       " {'EnglandSaltLakeCityUtah'},\n",
       " {'AustriaHungaryGermantownPhiladelphiaPA'},\n",
       " {'BrightonSussex'},\n",
       " {'Belfast'},\n",
       " {'BrooklynNY'},\n",
       " {'ZurichSwitzerland'},\n",
       " {'NewYorkNYStamfordCT'},\n",
       " {'Paris'},\n",
       " {'BrightonMA'},\n",
       " {'PhiladelphiaPA'},\n",
       " {'SkaraSwedenRockfordIL'},\n",
       " {'ParisFranceNewYorkNY'},\n",
       " {'EnglandOglesbyIL'},\n",
       " {'NewYorkNYGreenwichCT'},\n",
       " {'LondonEastOrangeNJ'},\n",
       " {'SarniaON'},\n",
       " {'FondduLacWI'},\n",
       " {'ElmiraNYOrangeNJ'},\n",
       " {'MerrillWI'},\n",
       " {'embarked'},\n",
       " {'BristolEnglandClevelandOH'},\n",
       " {'BelgiumDetroitMI'},\n",
       " {'ToftaSwedenJolietIL'},\n",
       " {'DenmarkHillSurreyChicago'},\n",
       " {'KingwilliamstownCoCorkIrelandNewYorkNY'},\n",
       " {'FrankfortKY'},\n",
       " {'TrentonNJ'},\n",
       " {'HelsinkiFinlandAshtabulaOhio'},\n",
       " {'EnglandNewYorkNY'},\n",
       " {'RotterdamNetherlands'},\n",
       " {'WaukeganChicagoIL'},\n",
       " {'HarrowEngland'},\n",
       " {'MamaroneckNY'},\n",
       " {'GreenBayWI'},\n",
       " {'PlymouthEngland'},\n",
       " {'DevonEnglandWichitaKS'},\n",
       " {'LimaPeru'},\n",
       " {'BathEnglandMassachusetts'},\n",
       " {'DowagiacMI'},\n",
       " {'RochesterNY'},\n",
       " {'MexicoCityMexico'},\n",
       " {'1st'},\n",
       " {'TreherbertCardiffWales'},\n",
       " {'FinlandMinneapolisMN'},\n",
       " {'Liverpool'},\n",
       " {'CornwallAkronOH'},\n",
       " {'BerneSwitzerlandCentralCityIA'},\n",
       " {'EffingtonRutSD'},\n",
       " {'LondonBrooklynNY'},\n",
       " {'NewYorkNYBriarcliffManorNY'},\n",
       " {'LondonWinnipegMB'},\n",
       " {'GreenportNY'},\n",
       " {'GuernseyElizabethNJ'},\n",
       " {'WorcesterMA'},\n",
       " {'CapeTownSouthAfricaSeattleWA'},\n",
       " {'HamiltonON'},\n",
       " {'EnglandDetroitMI'},\n",
       " {'HolleyNY'},\n",
       " {'PerkinsCountySD'},\n",
       " {'SeattleWAToledoOH'},\n",
       " {'WindsorEnglandNewYorkNY'},\n",
       " {'OmahaNE'},\n",
       " {'CornwallCamdenNJ'},\n",
       " {'WoodfordCountyKY'},\n",
       " {'LexingtonMA'},\n",
       " {'IsleofWightEngland'},\n",
       " {'CoClareIrelandWashingtonDC'},\n",
       " {'SwedenWorcesterMA'},\n",
       " {'WestonSuperMareMooseJawSK'},\n",
       " {'AustriaNiagaraFallsNY'},\n",
       " {'CoSligoIrelandNewYorkNY'},\n",
       " {'AughnacliffCoLongfordIrelandNewYorkNY'},\n",
       " {'Glasgow'},\n",
       " {'TaalintehdasFinlandHobokenNJ'},\n",
       " {'StDenysSouthamptonHants'},\n",
       " {'IndiaRapidCitySD'},\n",
       " {'MedeltorpSwedenChicagoIL'},\n",
       " {'WiltshireEnglandNiagaraFallsNY'},\n",
       " {'LondonChicagoIL'},\n",
       " {'BallydehobCoCorkIrelandNewYorkNY'},\n",
       " {'BangkokThailandRosevilleIL'},\n",
       " {'UnionHillNJ'},\n",
       " {'WorcesterEngland'},\n",
       " {'dead'},\n",
       " {'Russia'},\n",
       " {'Queenstown'},\n",
       " {'DuluthMN'},\n",
       " {'VancouverBC'},\n",
       " {'BournmouthEngland'},\n",
       " {'LondonBirmingham'},\n",
       " {'Spain'},\n",
       " {'JanjgirIndiaPennsylvania'},\n",
       " {'MontrealPQ'},\n",
       " {'CornwallHancockMI'},\n",
       " {'IrelandNewYorkNY'},\n",
       " {'StJamesLongIslandNY'},\n",
       " {'AuburnNY'},\n",
       " {'NorwayLosAngelesCA'},\n",
       " {'LuccaItalyCalifornia'},\n",
       " {'EastBridgewaterMA'},\n",
       " {'FolkstoneKentNewYorkNY'},\n",
       " {'KingwilliamstownCoCorkIrelandGlensFallsNY'},\n",
       " {'StIvesCornwallHoughtonMI'},\n",
       " {'GoteborgSwedenHuntleyIL'},\n",
       " {'BenningtonVT'},\n",
       " {'StIvesCornwallHancockMI'},\n",
       " {'CoCorkIrelandCharlestownMA'},\n",
       " {'DenverCO'},\n",
       " {'SwedenAkeleyMN'},\n",
       " {'NewYorkNY'},\n",
       " {'LondonNewYorkNY'},\n",
       " {'SurbitonHillSurrey'},\n",
       " {'SyriaFredericksburgVA'},\n",
       " {'AustriaHungary'},\n",
       " {'VadsbroSwedenMinisteeMI'},\n",
       " {'ParisFrance'},\n",
       " {'IndiaPittsburghPA'},\n",
       " {'HaddenfieldNJ'},\n",
       " {'ColumbusOH'},\n",
       " {'IndianapolisIN'},\n",
       " {'female'},\n",
       " {'LondonSkantealesNY'},\n",
       " {'SydneyAustralia'},\n",
       " {'ElizabethNJ'},\n",
       " {'MadridSpain'},\n",
       " {'BelmontMA'},\n",
       " {'BelgiumMontrealPQ'},\n",
       " {'LyndhurstEngland'},\n",
       " {'MiddleburgHeightsOH'},\n",
       " {'UpperBurmaIndiaPittsburghPA'},\n",
       " {'StAndrewsGuernsey'},\n",
       " {'KarbergSwedenJeromeJunctionAZ'},\n",
       " {'Ireland'},\n",
       " {'MoscowBronxNY'},\n",
       " {'PortlandOR'},\n",
       " {'PlymouthDorsetHoughtonMI'},\n",
       " {'LondonMiddlesex'},\n",
       " {'Cornwall'},\n",
       " {'GunturIndiaBentonHarbourMI'},\n",
       " {'YoungstownOH'},\n",
       " {'StIvesCornwallCalumetMI'},\n",
       " {'SeattleWA'},\n",
       " {'AmeniaND'},\n",
       " {'TuxedoParkNY'},\n",
       " {'Argentina'},\n",
       " {'StockholmSwedenNewYork'},\n",
       " {'SyriaYoungstownOH'},\n",
       " {'HuntingtonWV'},\n",
       " {'BrocktonMA'},\n",
       " {'DenmarkNewYorkNY'},\n",
       " {'BulgariaCoonRapidsIA'},\n",
       " {'NewYorkNYWashingtonDC'},\n",
       " {'YoevilEnglandCottageGroveOR'},\n",
       " {'IlfracombeDevon'},\n",
       " {'CoAthloneIrelandNewYorkNY'},\n",
       " {'IrelandChicagoIL'},\n",
       " {'SomersetBernardsvilleNJ'},\n",
       " {'BrunswickME'},\n",
       " {'CopenhagenDenmark'},\n",
       " {'BuffaloNY'},\n",
       " {'BirkdaleEnglandClevelandOhio'},\n",
       " {'SyriaKentON'},\n",
       " {'DeephavenMNCedarRapidsIA'},\n",
       " {'StoughtonMA'},\n",
       " {'GenevaSwitzerlandRadnorPA'},\n",
       " {'WashingtonDC'},\n",
       " {'BronxNY'},\n",
       " {'MontrealPQChestervilleON'},\n",
       " {'3rd'},\n",
       " {'AlbanyNY'},\n",
       " {'pclass'},\n",
       " {'BarcelonaSpainHavanaCuba'},\n",
       " {'SwedenChicagoIL'},\n",
       " {'EnglandPhiladelphiaPA'},\n",
       " {'WestHavenCT'},\n",
       " {'SittingbourneEnglandSanDiegoCA'},\n",
       " {'BridgwaterSomersetEngland'},\n",
       " {'RuotsinphyhtaaFinlandNewYorkNY'},\n",
       " {'IsleworthEngland'},\n",
       " {'StLeonardsonSeaEnglandOhio'},\n",
       " {'BristolAvonJacksonvilleFL'},\n",
       " {'VictoriaBC'},\n",
       " {'LiverpoolMontrealPQ'},\n",
       " {'RussiaNewYorkNY'},\n",
       " {'WinnipegMB'},\n",
       " {'EnglandHartfordCT'},\n",
       " {'ParisHaiti'},\n",
       " {'AberdeenPortlandOR'},\n",
       " {'PenzanceCornwallAkronOH'},\n",
       " {'WinnipegMN'},\n",
       " {'CornwallClearCreekCO'},\n",
       " {'BrynMawrPA'},\n",
       " {'FinlandSudburyON'},\n",
       " {'Guernsey'},\n",
       " {'TorontoON'},\n",
       " {'NewForestEngland'},\n",
       " {'BrennesNorwayNewYork'},\n",
       " {'HartfordCT'},\n",
       " {'EastOrangeNJ'},\n",
       " {'CornwallSpokaneWA'},\n",
       " {'NorwichNewYorkNY'},\n",
       " {'PetworthSussex'},\n",
       " {'HarrisburgPA'},\n",
       " {'LondonEnglandMariettaOhioandMilwaukeeWI'},\n",
       " {'GoteborgSwedenRockfordIL'},\n",
       " {'WestHobokenNJ'},\n",
       " {'BuenosAiresArgentinaNewJerseyNJ'},\n",
       " {\"StAnne'sonSeaLancashire\"},\n",
       " {'CoSligoIrelandHartfordCT'},\n",
       " {'CornwallHoughtonMI'},\n",
       " {'LondonVancouverBC'},\n",
       " {'MyrenSwedenNewYorkNY'},\n",
       " {'BrooklineMA'},\n",
       " {'BulgariaChicagoIL'},\n",
       " {'DagsasSwedenFowerMN'},\n",
       " {'GunnislakeEnglandButteMT'},\n",
       " {'HarrowontheHillMiddlesex'},\n",
       " {'Pennsylvania'},\n",
       " {'Southampton'},\n",
       " {'CologneGermany'},\n",
       " {'GlasgowBangorME'},\n",
       " {'NorthEvingtonEngland'},\n",
       " {'IrelandBrooklynNY'},\n",
       " {'ChicagoIL'},\n",
       " {'HalesworthEngland'},\n",
       " {'IllinoisUSA'},\n",
       " {'CambridgeMA'},\n",
       " {'SyriaNewYorkNY'},\n",
       " {'GuernseyEnglandEdgewoodRI'},\n",
       " {'WarwickEngland'},\n",
       " {'OskarshamnSwedenMinneapolisMN'},\n",
       " {'NewarkNJ'},\n",
       " {'BrynMawrPAUSA'},\n",
       " {'CornwallEnglandHoughtonMI'},\n",
       " {'FinlandWashingtonDC'},\n",
       " {'WestcliffonSeaEssex'},\n",
       " {'NorrlotSwedenChicagoIL'},\n",
       " {'SwindonEngland'},\n",
       " {'survived'},\n",
       " {'LondonEnglandNorfolkVA'},\n",
       " {'CatfordKentDetroitMI'},\n",
       " {'AntwerpBelgiumStantonOH'},\n",
       " {'BristolEnglandNewBritainCT'},\n",
       " {'Greece'},\n",
       " {'CoLongfordIrelandNewYorkNY'},\n",
       " {'LondonStatenIslandNY'},\n",
       " {'CooperstownNY'},\n",
       " {'JacksonvilleFL'},\n",
       " {'TokyoJapan'},\n",
       " {'LakewoodNJ'},\n",
       " {'sex'},\n",
       " {'NiceFrance'},\n",
       " {'BournemouthEnglandNewarkNJ'},\n",
       " {'ClevedonEngland'},\n",
       " {'2nd'},\n",
       " {'LondonFortByronNY'},\n",
       " {'BaselSwitzerland'},\n",
       " {'Cherbourg'},\n",
       " {'AltdorfSwitzerland'},\n",
       " {'KontiolahtiFinlandDetroitMI'},\n",
       " {'ElkinsParkPA'},\n",
       " {'SwedenJolietIL'},\n",
       " {'ItalyPhiladelphiaPA'},\n",
       " {'KilmacowenCoSligoIrelandNewYorkNY'},\n",
       " {'TranvikFinlandNewYork'},\n",
       " {'AscotBerkshireRochesterNY'},\n",
       " {'BarreCoWashingtonVT'},\n",
       " {'LondonEngland'},\n",
       " {'OsloNorwayBayonneNJ'},\n",
       " {'StAustallCornwall'},\n",
       " {'EnglandBrooklynNY'},\n",
       " {'ProvoUT'},\n",
       " {'EnglandSacramentoCA'},\n",
       " {'SaultStMarieON'},\n",
       " {'MilwaukeeWI'},\n",
       " {'HartfordHuntingdonshire'},\n",
       " {'SouthseaHants'},\n",
       " {'BridgeruleDevon'},\n",
       " {'BelfastNI'},\n",
       " {'DorchesterMA'},\n",
       " {'GallipolisOhioParisNewYork'},\n",
       " {'SpringfieldMA'},\n",
       " {'CoCorkIrelandRoxburyMA'},\n",
       " {'ProvidenceRI'},\n",
       " {'MinneapolisMN'},\n",
       " {'StockholmSwedenWashingtonDC'},\n",
       " {'KrakorydSwedenBloomingtonIL'},\n",
       " {'AustraliaFingalND'},\n",
       " {'BromsgroveEnglandMontrealPQ'},\n",
       " {'alive'},\n",
       " {'GreensburgPA'},\n",
       " {'MilfordNH'},\n",
       " {'StroodKentEnglandDetroitMI'},\n",
       " {'PlymouthDevonDetroitMI'},\n",
       " {'HudsonNY'},\n",
       " {'SwedenWinnipegMN'},\n",
       " {'Croatia'},\n",
       " {'PondersendEnglandNewDurhamNJ'},\n",
       " {'NewBritainCT'},\n",
       " {'OttawaON'},\n",
       " {'IlfordEssexWinnipegMB'},\n",
       " {'LowerClaptonMiddlesexorErdingtonBirmingham'},\n",
       " {'DevonportEngland'},\n",
       " {'HalifaxNS'},\n",
       " {'RuotsinphytaaFinlandNewYorkNY'},\n",
       " {'EnglandSanFranciscoCA'},\n",
       " {'SanFranciscoCA'},\n",
       " {'Austria'},\n",
       " {'BergenNorway'},\n",
       " {'HornseyEngland'},\n",
       " {'OsloNorwayCameronWI'},\n",
       " {'HaverfordPACooperstownNY'},\n",
       " {'StantonIA'},\n",
       " {'MtAiryPhiladelphiaPA'},\n",
       " {'LittleOnnHallStaffs'},\n",
       " {'London'},\n",
       " {'LakeArthurChavezCountyNM'},\n",
       " {'EastProvidenceRI'},\n",
       " {'NewYorkNYIthacaNY'},\n",
       " {'HaverfordPA'},\n",
       " {'Syria'},\n",
       " {'IrelandPhiladelphiaPA'},\n",
       " {'CalgaryAB'},\n",
       " {'WimbledonParkLondonHaylingIslandHants'},\n",
       " {'GreenwichCT'},\n",
       " {'MontevideoUruguay'},\n",
       " {'SyriaOttawaON'},\n",
       " {'RotherfieldSussexEnglandEssexCoMA'},\n",
       " {'GlenRidgeNJ'},\n",
       " {'SaloFinlandAstoriaOR'},\n",
       " {'GuernseyWilmingtonDE'},\n",
       " {'KingstonSurrey'},\n",
       " {'EnglandAlbionNY'},\n",
       " {'LondonMontrealPQ'},\n",
       " {'ChelseaLondon'},\n",
       " {'StLouisMO'},\n",
       " {'RoachdaleIN'},\n",
       " {'WestKensingtonLondon'},\n",
       " {'AsarumSwedenBrooklynNY'},\n",
       " {'BournemouthEngland'},\n",
       " {'SpainHavanaCuba'},\n",
       " {'DeerLodgeMT'},\n",
       " {'ParisNewYorkNY'},\n",
       " {'StreathamSurrey'},\n",
       " {'BishopstokeHantsFayetteValleyID'},\n",
       " {'GermantownPhiladelphiaPA'},\n",
       " {'BaysideQueensNY'},\n",
       " {'LosAngelesCA'},\n",
       " {'England'},\n",
       " {'CoLimerickIrelandSherbrookePQ'},\n",
       " {'Portugal'},\n",
       " {'WalthamstowEngland'},\n",
       " {'HongKongNewYorkNY'},\n",
       " {'male'},\n",
       " {'EnglandBenningtonVT'},\n",
       " {'ManchesterEngland'},\n",
       " {'WestHampsteadLondonNeepawaMB'},\n",
       " {'ParisMontrealPQ'},\n",
       " {'HessleYorks'},\n",
       " {'LiverpoolEnglandBedfordOH'},\n",
       " {'TampicoMT'},\n",
       " {'ScituateMA'},\n",
       " {'SouthamptonNewYorkNY'},\n",
       " {'ForesvikNorwayPortlandND'},\n",
       " {'DorkingSurreyEngland'},\n",
       " {'SwedenArlingtonNJ'},\n",
       " {'LondonParis'},\n",
       " {'home.dest'},\n",
       " {'WestBromwichEnglandPontiacMI'},\n",
       " {'PomeroyWA'},\n",
       " {'KrakuddenSwedenMouneIL'},\n",
       " {'DetroitMI'},\n",
       " {'StockholmSweden'},\n",
       " {'BostonMA'},\n",
       " {'GuernseyMontclairNJand/orToledoOhio'},\n",
       " {'WestonSuperMareSomerset'},\n",
       " {'SouthingtonNoankCT'}]"
      ]
     },
     "execution_count": 82,
     "metadata": {},
     "output_type": "execute_result"
    }
   ],
   "source": [
    "# décommenter les lignes suivantes:\n",
    "\n",
    "print(\"Pour la BASE Titanic :\")\n",
    "print(noms_items(Base_titanic))\n",
    "\n",
    "print(\"Exemple: singletons(Base_titanic) rend :\")\n",
    "singletons(Base_titanic)"
   ]
  },
  {
   "cell_type": "code",
   "execution_count": 85,
   "metadata": {},
   "outputs": [
    {
     "name": "stdout",
     "output_type": "stream",
     "text": [
      "[({'1st'}, 0.3792172739541161), ({'dead'}, 0.5344129554655871), ({'female'}, 0.38866396761133604), ({'3rd'}, 0.27125506072874495), ({'Southampton'}, 0.7112010796221323), ({'2nd'}, 0.3481781376518219), ({'Cherbourg'}, 0.23751686909581646), ({'alive'}, 0.4642375168690958), ({'male'}, 0.6099865047233468), ({'Southampton', '1st'}, 0.20917678812415655), ({'1st', 'alive'}, 0.23076923076923078), ({'1st', 'male'}, 0.21997300944669365), ({'Southampton', 'dead'}, 0.41295546558704455), ({'male', 'dead'}, 0.46963562753036436), ({'female', 'Southampton'}, 0.2483130904183536), ({'female', 'alive'}, 0.32388663967611336), ({'Southampton', '2nd'}, 0.30634278002699056), ({'Southampton', 'alive'}, 0.2982456140350877), ({'Southampton', 'male'}, 0.46288798920377866), ({'2nd', 'male'}, 0.20647773279352227), ({'Southampton', 'male', 'dead'}, 0.3684210526315789), ({'female', 'alive', 'Southampton'}, 0.203778677462888)]\n",
      "({'male', 'dead'}, 0.46963562753036436)\n",
      "({'Southampton', 'male'}, 0.46288798920377866)\n",
      "({'Southampton', 'dead'}, 0.41295546558704455)\n",
      "({'Southampton', 'male', 'dead'}, 0.3684210526315789)\n",
      "({'female', 'alive'}, 0.32388663967611336)\n",
      "({'Southampton', '2nd'}, 0.30634278002699056)\n",
      "({'Southampton', 'alive'}, 0.2982456140350877)\n",
      "({'female', 'Southampton'}, 0.2483130904183536)\n",
      "({'1st', 'alive'}, 0.23076923076923078)\n",
      "({'1st', 'male'}, 0.21997300944669365)\n",
      "({'Southampton', '1st'}, 0.20917678812415655)\n",
      "({'2nd', 'male'}, 0.20647773279352227)\n",
      "({'female', 'alive', 'Southampton'}, 0.203778677462888)\n"
     ]
    }
   ],
   "source": [
    "Lres = apriori(Base_titanic,0.2)\n",
    "\n",
    "# tri sur les valeurs de supports:\n",
    "#print(sorted(Lres, key=lambda data: data[1]))\n",
    "\n",
    "# tri sur la taille des itemsets\n",
    "print(sorted(Lres, key=lambda data: len(data[0])))\n",
    "\n",
    "for t in sorted(Lres, key=lambda data: data[1],reverse = True):\n",
    "    if len(t[0])>1:\n",
    "        print(t)\n"
   ]
  },
  {
   "cell_type": "markdown",
   "metadata": {},
   "source": [
    "<font color=\"RED\" size=\"+1\">**[Q]**</font>  Utiliser l'éxécutable <code>apriori</code> pour générer des règles d'association (voir les différentes options en annexe) sur les différentes bases de données fournies. Tester différents seuils (support et confiance). "
   ]
  },
  {
   "cell_type": "code",
   "execution_count": 89,
   "metadata": {},
   "outputs": [
    {
     "ename": "SyntaxError",
     "evalue": "invalid syntax (<ipython-input-89-c0e4e662a98e>, line 3)",
     "output_type": "error",
     "traceback": [
      "\u001b[1;36m  File \u001b[1;32m\"<ipython-input-89-c0e4e662a98e>\"\u001b[1;36m, line \u001b[1;32m3\u001b[0m\n\u001b[1;33m    c <- a b (50, 80)\u001b[0m\n\u001b[1;37m           ^\u001b[0m\n\u001b[1;31mSyntaxError\u001b[0m\u001b[1;31m:\u001b[0m invalid syntax\n"
     ]
    }
   ],
   "source": [
    "#./apriori32 -trs50m2n5 datasets/exemple-1.txt fichier-resultat.out\n",
    "\n",
    "c <- a b (50, 80)\n",
    "b <- a (60, 83.3333)\n",
    "c <- b (70, 85.7143)\n",
    "b <- c (70, 85.7143)"
   ]
  },
  {
   "cell_type": "markdown",
   "metadata": {},
   "source": [
    "<font color=\"RED\" size=\"+1\">**[Q]**</font>   Ajouter les deux mesures d'intérêt vues en TD (lift et RR) et afficher leurs valeurs pour chaque règle trouvée. Ajouter un argument au programme afin de pouvoir sélectionner une de ces mesures pour éliminer les règles inintéressantes.\n"
   ]
  },
  {
   "cell_type": "code",
   "execution_count": null,
   "metadata": {},
   "outputs": [],
   "source": []
  },
  {
   "cell_type": "markdown",
   "metadata": {},
   "source": [
    "<font color=\"RED\" size=\"+1\">**[Q]**</font>  Ajouter les deux mesures d'intérêt suivantes et afficher leurs valeurs\n",
    "  pour chaque règle trouvée. Ajouter un argument au programme afin de pouvoir sélectionner une de ces mesures pour éliminer les règles inintéressantes.\n",
    "  \n",
    "Par exemple:\n",
    "\n",
    "\\begin{align}\n",
    "  \\mbox{Interest}(X \\longrightarrow Y) & =  \\frac{P(X,Y)}{P(X)}P(Y) \\nonumber\\\\\n",
    " \\mbox{IS}(X \\longrightarrow Y) & =  \\frac{P(X,Y)}{\\sqrt{P(X)P(Y)}} \\nonumber\n",
    "\\end{align}"
   ]
  },
  {
   "cell_type": "markdown",
   "metadata": {},
   "source": [
    "### Utilisation de fp-growth"
   ]
  },
  {
   "cell_type": "markdown",
   "metadata": {},
   "source": [
    "<font color=\"RED\" size=\"+1\">**[Q]**</font>   Utiliser <code>fpgrowth</code> pour générer des règles d'association sur les différentes\n",
    "  bases de données. Comparer avec les résultats obtenus dans la section précédente. En  particulier, comparer les temps d'éxecution."
   ]
  },
  {
   "cell_type": "code",
   "execution_count": 90,
   "metadata": {},
   "outputs": [
    {
     "ename": "SyntaxError",
     "evalue": "invalid syntax (<ipython-input-90-c04d5c8f5d82>, line 6)",
     "output_type": "error",
     "traceback": [
      "\u001b[1;36m  File \u001b[1;32m\"<ipython-input-90-c04d5c8f5d82>\"\u001b[1;36m, line \u001b[1;32m6\u001b[0m\n\u001b[1;33m    c <- a b (50, 80)\u001b[0m\n\u001b[1;37m           ^\u001b[0m\n\u001b[1;31mSyntaxError\u001b[0m\u001b[1;31m:\u001b[0m invalid syntax\n"
     ]
    }
   ],
   "source": [
    "#./fpgrowth32 -trs50m2n5 datasets/exemple-1.txt fichier-resultat.out\n",
    "\n",
    "b <- c (70, 85.7143)\n",
    "c <- b (70, 85.7143)\n",
    "b <- a (60, 83.3333)\n",
    "c <- a b (50, 80)\n"
   ]
  },
  {
   "cell_type": "markdown",
   "metadata": {},
   "source": [
    "<font color=\"RED\" size=\"+1\">**[Q]**</font>  En essayant différentes valeurs de seuil, tester la génération de règles d'association intéressantes sur les bases de données fournies."
   ]
  },
  {
   "cell_type": "code",
   "execution_count": null,
   "metadata": {},
   "outputs": [],
   "source": [
    "#seuil a 20\n",
    "b <- c (70, 85.7143)\n",
    "c <- b (70, 85.7143)\n",
    "b <- a (60, 83.3333)\n",
    "b <- a c (40, 100)\n",
    "c <- a b (50, 80)\n",
    "b <- a d c (20, 100)\n",
    "d <- e (30, 100)\n"
   ]
  },
  {
   "cell_type": "markdown",
   "metadata": {},
   "source": [
    "## Annexes: utilisation des exécutables *apriori* et *fpgrowth*\n",
    "\n",
    "La documentation complète de ces programmes est disponible aux URL suivantes:\n",
    "- pour *apriori*: http://www.borgelt.net/doc/apriori/apriori.html\n",
    "- pour *fp-growth*: http://www.borgelt.net/doc/fpgrowth/fpgrowth.html\n",
    "\n",
    "\n",
    "Leur format d'utilisation général est:\n",
    "\n",
    "        ./<programme> [options] infile [outfile]\n",
    "\n",
    "(où <<code>programme</code>> est soit *apriori*, soit *fpgrowth*).\n",
    "\n",
    "Les options de base de ces 2 programmes sont:\n",
    "- sans argument: génération des itemsets fréquents (argument {<code>-ts</code> activé par défaut)\n",
    "- *tr*: pour obtenir les règles d'associations\n",
    "- *s*: pour fournir une valeur minimale de support. Le support est ici donné en valeur absolue ($n_{AB}$) et non pas en valeur relative ($\\frac{n_{AB}}{n}$).\n",
    "- *m*: pour fournir un nombre minimum d'items dans un itemset\n",
    "- *n*: pour fournir un nombre maximum d'items dans un itemset\n",
    "\n",
    "\n",
    "Par exemple (commandes lancées dans le répertoire père du répertoire *datasets/*):\n",
    "\n",
    "        ./apriori -trs50m2n5 datasets/exemple-1.txt fichier-resultat.out  \n",
    "        ./fpgrowth -trs50m2n5 datasets/mushrooms.txt fichier-resultat.out  \n"
   ]
  },
  {
   "cell_type": "code",
   "execution_count": null,
   "metadata": {},
   "outputs": [],
   "source": []
  }
 ],
 "metadata": {
  "kernelspec": {
   "display_name": "Python 3",
   "language": "python",
   "name": "python3"
  },
  "language_info": {
   "codemirror_mode": {
    "name": "ipython",
    "version": 3
   },
   "file_extension": ".py",
   "mimetype": "text/x-python",
   "name": "python",
   "nbconvert_exporter": "python",
   "pygments_lexer": "ipython3",
   "version": "3.8.3"
  }
 },
 "nbformat": 4,
 "nbformat_minor": 1
}
